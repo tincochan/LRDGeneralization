{
  "nbformat": 4,
  "nbformat_minor": 2,
  "metadata": {
    "kernelspec": {
      "name": "synapse_pyspark",
      "display_name": "Synapse PySpark"
    },
    "language_info": {
      "name": "python"
    },
    "description": null,
    "save_output": true,
    "synapse_widget": {
      "version": "0.1",
      "state": {
        "434a0dbc-1c20-45c9-a732-970b6b86e74e": {
          "type": "Synapse.DataFrame",
          "sync_state": {
            "table": {
              "rows": [
                {
                  "0": "66c4ef9b2392afe3f4c2676418964ceb20512332a4f5e597a1cbf3d4ca7fb317",
                  "1": "38c521102ac1cd559c51625c24404c3020f2099d4bc32fed81d8de59e2ce1350",
                  "2": "5679ddc73f9b680927cf38293e9907b1a32c65d26518e2829e010167a3f37421",
                  "3": "10",
                  "4": "1",
                  "5": "1333",
                  "6": "56.0",
                  "7": "22193.0",
                  "8": "http"
                },
                {
                  "0": "3bb952c79ba8d52c5a832f6bfd7fb8ef62118b56cf6a99421fc16189205623d0",
                  "1": "71ba2a20e87ac9984015c1dda54366a7e76d115de52fcbec2e798180a3ef2433",
                  "2": "21c8abde340712a21f4bc079e900600ac0c4eb26f421157c5eb235532569c618",
                  "3": "12",
                  "4": "1",
                  "5": "202",
                  "6": "147.0",
                  "7": "3424.0",
                  "8": "http"
                },
                {
                  "0": "da0cd5783c23e813e7ce92539e731904a619dc1c6a9457e5b0949e875ce1d618",
                  "1": "cfc1e42003c3762381d1d74243ba395b51dad7c67d488fb927cf9157a5f15bdb",
                  "2": "45f6a5645e65b97647bc28b1a60b0e64ad724300704b4900995c13a6c7203ce5",
                  "3": "25",
                  "4": "1",
                  "5": "4",
                  "6": "0.0",
                  "7": "138.0",
                  "8": "http"
                },
                {
                  "0": "1c5909c9017da0cf0fe655d41cc47ad2a15c6a95bdec7b7373453611b2df7dff",
                  "1": "d7ea966b22051b63ed47c27b2553674627ff232e01f7f0933f7a07a354ca1de5",
                  "2": "a107843d9cff89380016c124f6c871b8325dba8e3843e6e51fadbe00e1ac1b7f",
                  "3": "31",
                  "4": "1",
                  "5": "50",
                  "6": "0.0",
                  "7": "3880.0",
                  "8": "http"
                },
                {
                  "0": "dca6b75d51b494146b50f93b0f1a863ce99164942695e8309c5d64b47709064e",
                  "1": "cfccc67d83c3c4dc1dd075e77e41232282e4d7a75d2ba990152f7f8400db3514",
                  "2": "875652920ad86e74f898a9dfa1a0a6d75c94f7aa794d3591659111603c7ff872",
                  "3": "32",
                  "4": "1",
                  "5": "1625",
                  "6": "277.0",
                  "7": "210005.0",
                  "8": "http"
                }
              ],
              "schema": [
                {
                  "key": "0",
                  "name": "HashOwner",
                  "type": "string"
                },
                {
                  "key": "1",
                  "name": "HashApp",
                  "type": "string"
                },
                {
                  "key": "2",
                  "name": "HashFunction",
                  "type": "string"
                },
                {
                  "key": "3",
                  "name": "Func_index",
                  "type": "int"
                },
                {
                  "key": "4",
                  "name": "Sub_index",
                  "type": "int"
                },
                {
                  "key": "5",
                  "name": "Average",
                  "type": "string"
                },
                {
                  "key": "6",
                  "name": "Minimum",
                  "type": "string"
                },
                {
                  "key": "7",
                  "name": "Maximum",
                  "type": "string"
                },
                {
                  "key": "8",
                  "name": "Trigger",
                  "type": "string"
                }
              ],
              "truncated": false
            },
            "isSummary": false,
            "language": "scala"
          },
          "persist_state": {
            "view": {
              "type": "details",
              "tableOptions": {},
              "chartOptions": {
                "chartType": "bar",
                "aggregationType": "sum",
                "categoryFieldKeys": [
                  "0"
                ],
                "seriesFieldKeys": [
                  "3"
                ],
                "isStacked": false
              }
            }
          }
        },
        "6a8ae44e-6b95-4ef1-bfe1-1a50b83f83ee": {
          "type": "Synapse.DataFrame",
          "sync_state": {
            "table": {
              "rows": [
                {
                  "0": "10",
                  "1": "66c4ef9b2392afe3f4c2676418964ceb20512332a4f5e597a1cbf3d4ca7fb317",
                  "2": "38c521102ac1cd559c51625c24404c3020f2099d4bc32fed81d8de59e2ce1350",
                  "3": "5679ddc73f9b680927cf38293e9907b1a32c65d26518e2829e010167a3f37421",
                  "4": "1333",
                  "5": "56.0",
                  "6": "22193.0"
                },
                {
                  "0": "12",
                  "1": "3bb952c79ba8d52c5a832f6bfd7fb8ef62118b56cf6a99421fc16189205623d0",
                  "2": "71ba2a20e87ac9984015c1dda54366a7e76d115de52fcbec2e798180a3ef2433",
                  "3": "21c8abde340712a21f4bc079e900600ac0c4eb26f421157c5eb235532569c618",
                  "4": "202",
                  "5": "147.0",
                  "6": "3424.0"
                },
                {
                  "0": "25",
                  "1": "da0cd5783c23e813e7ce92539e731904a619dc1c6a9457e5b0949e875ce1d618",
                  "2": "cfc1e42003c3762381d1d74243ba395b51dad7c67d488fb927cf9157a5f15bdb",
                  "3": "45f6a5645e65b97647bc28b1a60b0e64ad724300704b4900995c13a6c7203ce5",
                  "4": "4",
                  "5": "0.0",
                  "6": "138.0"
                },
                {
                  "0": "31",
                  "1": "1c5909c9017da0cf0fe655d41cc47ad2a15c6a95bdec7b7373453611b2df7dff",
                  "2": "d7ea966b22051b63ed47c27b2553674627ff232e01f7f0933f7a07a354ca1de5",
                  "3": "a107843d9cff89380016c124f6c871b8325dba8e3843e6e51fadbe00e1ac1b7f",
                  "4": "50",
                  "5": "0.0",
                  "6": "3880.0"
                },
                {
                  "0": "32",
                  "1": "dca6b75d51b494146b50f93b0f1a863ce99164942695e8309c5d64b47709064e",
                  "2": "cfccc67d83c3c4dc1dd075e77e41232282e4d7a75d2ba990152f7f8400db3514",
                  "3": "875652920ad86e74f898a9dfa1a0a6d75c94f7aa794d3591659111603c7ff872",
                  "4": "1625",
                  "5": "277.0",
                  "6": "210005.0"
                },
                {
                  "0": "33",
                  "1": "1c5909c9017da0cf0fe655d41cc47ad2a15c6a95bdec7b7373453611b2df7dff",
                  "2": "d7ea966b22051b63ed47c27b2553674627ff232e01f7f0933f7a07a354ca1de5",
                  "3": "92c2b5aa2fd73c298ac8444deb32f7aaa5ce28e47fa8fa8c85292311eee23e56",
                  "4": "44",
                  "5": "0.0",
                  "6": "781.0"
                },
                {
                  "0": "40",
                  "1": "3e4df4be44e100424bb64d7bcebf6c05a7f007ec22a331570c10869293e2a346",
                  "2": "9e3df95350f330051bcafbc86f149d0fb734e15f0b224c02a4b6074d702a1b6c",
                  "3": "13c55dd3d7ffc4a37f3346ddd0a7d93890000937c110dfb7463cdacba4f96141",
                  "4": "4997",
                  "5": "45.0",
                  "6": "101046.0"
                },
                {
                  "0": "41",
                  "1": "3e4df4be44e100424bb64d7bcebf6c05a7f007ec22a331570c10869293e2a346",
                  "2": "9e3df95350f330051bcafbc86f149d0fb734e15f0b224c02a4b6074d702a1b6c",
                  "3": "895b0938aff10e2c75fe19dae0957f294bb5f66cdc420081569b0a89ff4299e2",
                  "4": "120",
                  "5": "31.0",
                  "6": "42282.0"
                },
                {
                  "0": "55",
                  "1": "ccb4ed37224126b93e8549e1c8bc5733b7c9a162311eb146053682d248400ec8",
                  "2": "a4356f12d427b900130e730f7834f3f42da3cd0cce67833e35ebe9af1c63ba3f",
                  "3": "b2d7ac575da1289b9dd714bbb9b8dc85994bfbaf4db7af676ccdc2e400faf3c3",
                  "4": "137",
                  "5": "28.0",
                  "6": "1303.0"
                },
                {
                  "0": "56",
                  "1": "ccb4ed37224126b93e8549e1c8bc5733b7c9a162311eb146053682d248400ec8",
                  "2": "a4356f12d427b900130e730f7834f3f42da3cd0cce67833e35ebe9af1c63ba3f",
                  "3": "d86fc0242b8dc386bb272a78e0838b16e7c4fbc713f4128d12937b36ed22ec87",
                  "4": "214",
                  "5": "19.0",
                  "6": "1186.0"
                }
              ],
              "schema": [
                {
                  "key": "0",
                  "name": "Func_index",
                  "type": "int"
                },
                {
                  "key": "1",
                  "name": "HashOwner",
                  "type": "string"
                },
                {
                  "key": "2",
                  "name": "HashApp",
                  "type": "string"
                },
                {
                  "key": "3",
                  "name": "HashFunction",
                  "type": "string"
                },
                {
                  "key": "4",
                  "name": "Average",
                  "type": "string"
                },
                {
                  "key": "5",
                  "name": "Minimum",
                  "type": "string"
                },
                {
                  "key": "6",
                  "name": "Maximum",
                  "type": "string"
                }
              ],
              "truncated": false
            },
            "isSummary": false,
            "language": "scala"
          },
          "persist_state": {
            "view": {
              "type": "details",
              "tableOptions": {},
              "chartOptions": {
                "chartType": "bar",
                "aggregationType": "sum",
                "categoryFieldKeys": [
                  "1"
                ],
                "seriesFieldKeys": [
                  "0"
                ],
                "isStacked": false
              }
            }
          }
        },
        "86384087-67d9-40ba-9b52-86835c9e8575": {
          "type": "Synapse.DataFrame",
          "sync_state": {
            "table": {
              "rows": [
                {
                  "0": "10",
                  "1": "66c4ef9b2392afe3f4c2676418964ceb20512332a4f5e597a1cbf3d4ca7fb317",
                  "2": "2218.0",
                  "3": "1333",
                  "4": "56.0",
                  "5": "22193.0"
                },
                {
                  "0": "12",
                  "1": "3bb952c79ba8d52c5a832f6bfd7fb8ef62118b56cf6a99421fc16189205623d0",
                  "2": "848.0",
                  "3": "202",
                  "4": "147.0",
                  "5": "3424.0"
                },
                {
                  "0": "25",
                  "1": "da0cd5783c23e813e7ce92539e731904a619dc1c6a9457e5b0949e875ce1d618",
                  "2": "1787.0",
                  "3": "4",
                  "4": "0.0",
                  "5": "138.0"
                },
                {
                  "0": "31",
                  "1": "1c5909c9017da0cf0fe655d41cc47ad2a15c6a95bdec7b7373453611b2df7dff",
                  "2": "4042.0",
                  "3": "50",
                  "4": "0.0",
                  "5": "3880.0"
                },
                {
                  "0": "32",
                  "1": "dca6b75d51b494146b50f93b0f1a863ce99164942695e8309c5d64b47709064e",
                  "2": "3389.0",
                  "3": "1625",
                  "4": "277.0",
                  "5": "210005.0"
                },
                {
                  "0": "33",
                  "1": "1c5909c9017da0cf0fe655d41cc47ad2a15c6a95bdec7b7373453611b2df7dff",
                  "2": "3670.0",
                  "3": "44",
                  "4": "0.0",
                  "5": "781.0"
                },
                {
                  "0": "40",
                  "1": "3e4df4be44e100424bb64d7bcebf6c05a7f007ec22a331570c10869293e2a346",
                  "2": "488.0",
                  "3": "4997",
                  "4": "45.0",
                  "5": "101046.0"
                },
                {
                  "0": "41",
                  "1": "3e4df4be44e100424bb64d7bcebf6c05a7f007ec22a331570c10869293e2a346",
                  "2": "3438.0",
                  "3": "120",
                  "4": "31.0",
                  "5": "42282.0"
                },
                {
                  "0": "55",
                  "1": "ccb4ed37224126b93e8549e1c8bc5733b7c9a162311eb146053682d248400ec8",
                  "2": "4509.0",
                  "3": "137",
                  "4": "28.0",
                  "5": "1303.0"
                },
                {
                  "0": "56",
                  "1": "ccb4ed37224126b93e8549e1c8bc5733b7c9a162311eb146053682d248400ec8",
                  "2": "5442.0",
                  "3": "214",
                  "4": "19.0",
                  "5": "1186.0"
                }
              ],
              "schema": [
                {
                  "key": "0",
                  "name": "Func_index",
                  "type": "int"
                },
                {
                  "key": "1",
                  "name": "HashOwner",
                  "type": "string"
                },
                {
                  "key": "2",
                  "name": "Func_ID",
                  "type": "double"
                },
                {
                  "key": "3",
                  "name": "Average",
                  "type": "string"
                },
                {
                  "key": "4",
                  "name": "Minimum",
                  "type": "string"
                },
                {
                  "key": "5",
                  "name": "Maximum",
                  "type": "string"
                }
              ],
              "truncated": false
            },
            "isSummary": false,
            "language": "scala"
          },
          "persist_state": {
            "view": {
              "type": "details",
              "tableOptions": {},
              "chartOptions": {
                "chartType": "bar",
                "aggregationType": "sum",
                "categoryFieldKeys": [
                  "1"
                ],
                "seriesFieldKeys": [
                  "0"
                ],
                "isStacked": false
              }
            }
          }
        }
      }
    }
  },
  "cells": [
    {
      "cell_type": "markdown",
      "metadata": {
        "nteract": {
          "transient": {
            "deleting": false
          }
        }
      },
      "source": [
        "# Import Data\r\n",
        "\r\n",
        "* Note that the dataframe \"df\" is being reused and over-written for memory saving purpose.\r\n",
        "* Description of data schemas is in https://github.com/Azure/AzurePublicDataset/blob/master/AzureFunctionsDataset2019.md\r\n",
        "* The original datasets are in CSVs"
      ]
    },
    {
      "cell_type": "code",
      "execution_count": 1,
      "outputs": [
        {
          "output_type": "display_data",
          "data": {
            "application/vnd.livy.statement-meta+json": {
              "spark_pool": "genterist",
              "session_id": "2",
              "statement_id": 1,
              "state": "finished",
              "livy_statement_state": "available",
              "queued_time": "2023-02-26T05:11:25.5747785Z",
              "session_start_time": "2023-02-26T05:11:25.6341472Z",
              "execution_start_time": "2023-02-26T05:15:01.2964474Z",
              "execution_finish_time": "2023-02-26T05:15:01.4863714Z",
              "spark_jobs": null,
              "parent_msg_id": "10823460-6e1f-4341-8499-e7eacfee31e4"
            },
            "text/plain": "StatementMeta(genterist, 2, 1, Finished, Available)"
          },
          "metadata": {}
        }
      ],
      "metadata": {
        "jupyter": {
          "source_hidden": false,
          "outputs_hidden": false
        },
        "nteract": {
          "transient": {
            "deleting": false
          }
        }
      },
      "source": [
        "# importing necesary libraries\r\n",
        "from pyspark.sql.functions import desc, row_number, monotonically_increasing_id\r\n",
        "from pyspark.sql.window import Window\r\n",
        "from pyspark.sql import functions as F\r\n",
        "from pyspark.sql.functions import round, col"
      ]
    },
    {
      "cell_type": "code",
      "execution_count": 2,
      "outputs": [
        {
          "output_type": "display_data",
          "data": {
            "application/vnd.livy.statement-meta+json": {
              "spark_pool": "genterist",
              "session_id": "2",
              "statement_id": 2,
              "state": "finished",
              "livy_statement_state": "available",
              "queued_time": "2023-02-26T05:11:45.8499321Z",
              "session_start_time": null,
              "execution_start_time": "2023-02-26T05:15:01.6977315Z",
              "execution_finish_time": "2023-02-26T05:16:17.1292186Z",
              "spark_jobs": null,
              "parent_msg_id": "63e4ad96-841e-4b79-89c0-dbd83711f6e7"
            },
            "text/plain": "StatementMeta(genterist, 2, 2, Finished, Available)"
          },
          "metadata": {}
        },
        {
          "output_type": "stream",
          "name": "stdout",
          "text": [
            "+-------+--------------------+--------------------+--------------------+-------+\n|summary|           HashOwner|             HashApp|        HashFunction|Trigger|\n+-------+--------------------+--------------------+--------------------+-------+\n|  count|               30440|               30440|               30440|  30440|\n|   mean|                null|                null|                null|   null|\n| stddev|                null|                null|                null|   null|\n|    min|0001edd756889b6f8...|000143d27de4ac74f...|000048406e45e3cdf...|   http|\n|    25%|                null|                null|                null|   null|\n|    50%|                null|                null|                null|   null|\n|    75%|                null|                null|                null|   null|\n|    max|fffce5f6d8522e7ca...|fffce52236bf5616a...|fffbedc79ab93024e...|   http|\n+-------+--------------------+--------------------+--------------------+-------+\n\n"
          ]
        }
      ],
      "metadata": {
        "jupyter": {
          "source_hidden": false,
          "outputs_hidden": false
        },
        "nteract": {
          "transient": {
            "deleting": false
          }
        },
        "microsoft": {
          "language": "python"
        },
        "collapsed": false
      },
      "source": [
        "%%pyspark\r\n",
        "df = spark.read.load([\r\n",
        "    'abfss://genfilesys@gensynapse.dfs.core.windows.net/Azure-functionDataset-2019/invocations_per_function_md.anon.d01.csv',\r\n",
        "    'abfss://genfilesys@gensynapse.dfs.core.windows.net/Azure-functionDataset-2019/invocations_per_function_md.anon.d02.csv',\r\n",
        "    'abfss://genfilesys@gensynapse.dfs.core.windows.net/Azure-functionDataset-2019/invocations_per_function_md.anon.d03.csv',\r\n",
        "    'abfss://genfilesys@gensynapse.dfs.core.windows.net/Azure-functionDataset-2019/invocations_per_function_md.anon.d04.csv',\r\n",
        "    'abfss://genfilesys@gensynapse.dfs.core.windows.net/Azure-functionDataset-2019/invocations_per_function_md.anon.d05.csv',\r\n",
        "    'abfss://genfilesys@gensynapse.dfs.core.windows.net/Azure-functionDataset-2019/invocations_per_function_md.anon.d06.csv',\r\n",
        "    'abfss://genfilesys@gensynapse.dfs.core.windows.net/Azure-functionDataset-2019/invocations_per_function_md.anon.d07.csv',\r\n",
        "    'abfss://genfilesys@gensynapse.dfs.core.windows.net/Azure-functionDataset-2019/invocations_per_function_md.anon.d08.csv',\r\n",
        "    'abfss://genfilesys@gensynapse.dfs.core.windows.net/Azure-functionDataset-2019/invocations_per_function_md.anon.d09.csv',\r\n",
        "    'abfss://genfilesys@gensynapse.dfs.core.windows.net/Azure-functionDataset-2019/invocations_per_function_md.anon.d10.csv',\r\n",
        "    'abfss://genfilesys@gensynapse.dfs.core.windows.net/Azure-functionDataset-2019/invocations_per_function_md.anon.d11.csv',\r\n",
        "    'abfss://genfilesys@gensynapse.dfs.core.windows.net/Azure-functionDataset-2019/invocations_per_function_md.anon.d12.csv',\r\n",
        "    'abfss://genfilesys@gensynapse.dfs.core.windows.net/Azure-functionDataset-2019/invocations_per_function_md.anon.d13.csv',\r\n",
        "    'abfss://genfilesys@gensynapse.dfs.core.windows.net/Azure-functionDataset-2019/invocations_per_function_md.anon.d14.csv'\r\n",
        "    ], format='csv'\r\n",
        ", header=True\r\n",
        ")\r\n",
        "df = df.select(\"HashOwner\",\"HashApp\",\"HashFunction\",\"Trigger\")\r\n",
        "df = df.distinct()\r\n",
        "## get only http triggers\r\n",
        "df = df.where(\"Trigger == 'http'\")\r\n",
        "df.summary().show()\r\n",
        "#display(df.limit(10))\r\n",
        "df.write.mode(\"overwrite\").saveAsTable(\"triggers\")\r\n",
        "\r\n",
        "## importing function durations\r\n",
        "df = spark.read.load([\r\n",
        "    'abfss://genfilesys@gensynapse.dfs.core.windows.net/Azure-functionDataset-2019/function_durations_percentiles.anon.d01.csv',\r\n",
        "    'abfss://genfilesys@gensynapse.dfs.core.windows.net/Azure-functionDataset-2019/function_durations_percentiles.anon.d02.csv',\r\n",
        "    'abfss://genfilesys@gensynapse.dfs.core.windows.net/Azure-functionDataset-2019/function_durations_percentiles.anon.d03.csv',\r\n",
        "    'abfss://genfilesys@gensynapse.dfs.core.windows.net/Azure-functionDataset-2019/function_durations_percentiles.anon.d04.csv',\r\n",
        "    'abfss://genfilesys@gensynapse.dfs.core.windows.net/Azure-functionDataset-2019/function_durations_percentiles.anon.d05.csv',\r\n",
        "    'abfss://genfilesys@gensynapse.dfs.core.windows.net/Azure-functionDataset-2019/function_durations_percentiles.anon.d06.csv',\r\n",
        "    'abfss://genfilesys@gensynapse.dfs.core.windows.net/Azure-functionDataset-2019/function_durations_percentiles.anon.d07.csv',\r\n",
        "    'abfss://genfilesys@gensynapse.dfs.core.windows.net/Azure-functionDataset-2019/function_durations_percentiles.anon.d08.csv',\r\n",
        "    'abfss://genfilesys@gensynapse.dfs.core.windows.net/Azure-functionDataset-2019/function_durations_percentiles.anon.d09.csv',\r\n",
        "    'abfss://genfilesys@gensynapse.dfs.core.windows.net/Azure-functionDataset-2019/function_durations_percentiles.anon.d10.csv',\r\n",
        "    'abfss://genfilesys@gensynapse.dfs.core.windows.net/Azure-functionDataset-2019/function_durations_percentiles.anon.d11.csv',\r\n",
        "    'abfss://genfilesys@gensynapse.dfs.core.windows.net/Azure-functionDataset-2019/function_durations_percentiles.anon.d12.csv',\r\n",
        "    'abfss://genfilesys@gensynapse.dfs.core.windows.net/Azure-functionDataset-2019/function_durations_percentiles.anon.d13.csv',\r\n",
        "    'abfss://genfilesys@gensynapse.dfs.core.windows.net/Azure-functionDataset-2019/function_durations_percentiles.anon.d14.csv'\r\n",
        "    ], format='csv'\r\n",
        ", header=True\r\n",
        ")\r\n",
        "## do not need to save to a new table here since we'll use temp tables later on"
      ]
    },
    {
      "cell_type": "markdown",
      "metadata": {
        "nteract": {
          "transient": {
            "deleting": false
          }
        }
      },
      "source": [
        "# Transform data"
      ]
    },
    {
      "cell_type": "code",
      "execution_count": 3,
      "outputs": [
        {
          "output_type": "display_data",
          "data": {
            "application/vnd.livy.statement-meta+json": {
              "spark_pool": "genterist",
              "session_id": "2",
              "statement_id": 3,
              "state": "finished",
              "livy_statement_state": "available",
              "queued_time": "2023-02-26T05:18:46.486853Z",
              "session_start_time": null,
              "execution_start_time": "2023-02-26T05:18:46.6416234Z",
              "execution_finish_time": "2023-02-26T05:19:13.9016547Z",
              "spark_jobs": null,
              "parent_msg_id": "c3d2e048-3c4c-4421-a8ad-3975026fb9c5"
            },
            "text/plain": "StatementMeta(genterist, 2, 3, Finished, Available)"
          },
          "metadata": {}
        },
        {
          "output_type": "stream",
          "name": "stdout",
          "text": [
            "Original length:  662927\nTuples with more than  9  occurances:  166910\nDISTINCT tuples with more than  9  occurances: 38750\nDISTINCT tuples relating to http triggers with more than  9  occurances: 10636\nOriginal length filtered:  136997\n"
          ]
        },
        {
          "output_type": "display_data",
          "data": {
            "application/vnd.synapse.widget-view+json": {
              "widget_id": "434a0dbc-1c20-45c9-a732-970b6b86e74e",
              "widget_type": "Synapse.DataFrame"
            },
            "text/plain": "SynapseWidget(Synapse.DataFrame, 434a0dbc-1c20-45c9-a732-970b6b86e74e)"
          },
          "metadata": {}
        }
      ],
      "metadata": {
        "jupyter": {
          "source_hidden": false,
          "outputs_hidden": false
        },
        "nteract": {
          "transient": {
            "deleting": false
          }
        },
        "microsoft": {
          "language": "python"
        },
        "collapsed": false
      },
      "source": [
        "%%pyspark\r\n",
        "## minimum occurances of a tuple, used to filter number of http trigger\r\n",
        "## there is no need for including http trigger functions with less than n occurences because as the time-series models learn how to predict\r\n",
        "## occurences later than the n(th), they already learned how to predict the (n-x) occurances.\r\n",
        "occurances = 9\r\n",
        "\r\n",
        "## log the original order of functions by Func_index\r\n",
        "df = df.withColumn('Func_index', row_number().over(Window.orderBy(monotonically_increasing_id())) - 1)\r\n",
        "\r\n",
        "## log the original order of each function's occurences by sub_index\r\n",
        "my_window = Window.partitionBy(\"HashFunction\").orderBy(\"HashOwner\",\"HashApp\",\"HashFunction\")  # very important to note we set a table's partition here\r\n",
        "df = df.withColumn('sub_index', row_number().over(my_window))\r\n",
        "df = df.orderBy(\"HashOwner\",\"HashApp\",\"HashFunction\",\"sub_index\")\r\n",
        "df = df.select(\"HashOwner\",\"HashApp\",\"HashFunction\",\"Func_index\",\"Sub_index\",\"Average\",\"Minimum\",\"Maximum\")\r\n",
        "print(\"Original length: \",df.count())\r\n",
        "\r\n",
        "## Grab the tuples with more than occurances\r\n",
        "df2 = df.select(\"HashOwner\",\"HashApp\",\"HashFunction\",\"Sub_index\")\r\n",
        "df2 = df2.where(df2.Sub_index>occurances)\r\n",
        "print(\"Tuples with more than \",occurances,\" occurances: \",df2.count())\r\n",
        "df2 = df2.select(\"HashOwner\",\"HashApp\",\"HashFunction\")\r\n",
        "df2 = df2.distinct()\r\n",
        "print(\"DISTINCT tuples with more than \",occurances,\" occurances:\",df2.count())\r\n",
        "\r\n",
        "## Filter the main df with targeted tuples\r\n",
        "df2.createOrReplaceTempView(\"df2\")\r\n",
        "df2 = spark.sql(\"SELECT * FROM df2 NATURAL JOIN triggers\")\r\n",
        "print(\"DISTINCT tuples relating to http triggers with more than \",occurances,\" occurances:\",df2.count())\r\n",
        "df2.createOrReplaceTempView(\"df2\")\r\n",
        "df.createOrReplaceTempView(\"df\")\r\n",
        "df = spark.sql(\"SELECT * FROM df NATURAL JOIN df2\")\r\n",
        "print(\"Original length filtered: \",df.count())\r\n",
        "\r\n",
        "## order by original Index\r\n",
        "df = df.orderBy(\"Func_index\", ascending=True)\r\n",
        "\r\n",
        "\r\n",
        "## generate final Index\r\n",
        "# w = Window.orderBy(\"Func_index\")\r\n",
        "# df = df.withColumn(\"index\", row_number().over(w)-1)\r\n",
        "\r\n",
        "display(df.limit(5))"
      ]
    },
    {
      "cell_type": "code",
      "execution_count": 4,
      "outputs": [
        {
          "output_type": "display_data",
          "data": {
            "application/vnd.livy.statement-meta+json": {
              "spark_pool": "genterist",
              "session_id": "2",
              "statement_id": 4,
              "state": "finished",
              "livy_statement_state": "available",
              "queued_time": "2023-02-26T05:19:55.7728582Z",
              "session_start_time": null,
              "execution_start_time": "2023-02-26T05:19:55.9178881Z",
              "execution_finish_time": "2023-02-26T05:20:08.6098215Z",
              "spark_jobs": null,
              "parent_msg_id": "1021e882-26cb-419b-ac45-ca874f46afff"
            },
            "text/plain": "StatementMeta(genterist, 2, 4, Finished, Available)"
          },
          "metadata": {}
        },
        {
          "output_type": "stream",
          "name": "stdout",
          "text": [
            "+--------------------+\n|variance(Func_index)|\n+--------------------+\n|3.670791866628761E10|\n+--------------------+\n\n"
          ]
        },
        {
          "output_type": "display_data",
          "data": {
            "application/vnd.synapse.widget-view+json": {
              "widget_id": "6a8ae44e-6b95-4ef1-bfe1-1a50b83f83ee",
              "widget_type": "Synapse.DataFrame"
            },
            "text/plain": "SynapseWidget(Synapse.DataFrame, 6a8ae44e-6b95-4ef1-bfe1-1a50b83f83ee)"
          },
          "metadata": {}
        }
      ],
      "metadata": {
        "jupyter": {
          "source_hidden": false,
          "outputs_hidden": false
        },
        "nteract": {
          "transient": {
            "deleting": false
          }
        },
        "microsoft": {
          "language": "python"
        },
        "collapsed": false
      },
      "source": [
        "%%pyspark\r\n",
        "df = df.select(\"Func_index\",\"HashOwner\",\"HashApp\",\"HashFunction\",\"Average\",\"Minimum\",\"Maximum\")\r\n",
        "## print out some basic stats\r\n",
        "# df.summary().show()\r\n",
        "## print variance of func_index\r\n",
        "df.agg({'Func_index': 'variance'}).show()\r\n",
        "display(df.limit(10))"
      ]
    },
    {
      "cell_type": "code",
      "execution_count": 5,
      "outputs": [
        {
          "output_type": "display_data",
          "data": {
            "application/vnd.livy.statement-meta+json": {
              "spark_pool": "genterist",
              "session_id": "2",
              "statement_id": 5,
              "state": "finished",
              "livy_statement_state": "available",
              "queued_time": "2023-02-26T05:20:42.5052307Z",
              "session_start_time": null,
              "execution_start_time": "2023-02-26T05:20:42.6413964Z",
              "execution_finish_time": "2023-02-26T05:20:53.289951Z",
              "spark_jobs": null,
              "parent_msg_id": "06302bab-1ee3-4aa8-bb33-3dcd248ee57e"
            },
            "text/plain": "StatementMeta(genterist, 2, 5, Finished, Available)"
          },
          "metadata": {}
        }
      ],
      "metadata": {
        "jupyter": {
          "source_hidden": false,
          "outputs_hidden": false
        },
        "nteract": {
          "transient": {
            "deleting": false
          }
        }
      },
      "source": [
        "from pyspark.ml.feature import StringIndexer\r\n",
        "function_indexer = StringIndexer(inputCol=\"HashFunction\", outputCol=\"Func_ID\")\r\n",
        "df_new = function_indexer.fit(df).transform(df)"
      ]
    },
    {
      "cell_type": "code",
      "execution_count": 6,
      "outputs": [
        {
          "output_type": "display_data",
          "data": {
            "application/vnd.livy.statement-meta+json": {
              "spark_pool": "genterist",
              "session_id": "2",
              "statement_id": 6,
              "state": "finished",
              "livy_statement_state": "available",
              "queued_time": "2023-02-26T05:21:30.8344596Z",
              "session_start_time": null,
              "execution_start_time": "2023-02-26T05:21:30.964052Z",
              "execution_finish_time": "2023-02-26T05:21:47.8777371Z",
              "spark_jobs": null,
              "parent_msg_id": "49aaf2b4-a4df-4d7e-9ac8-316b9a107477"
            },
            "text/plain": "StatementMeta(genterist, 2, 6, Finished, Available)"
          },
          "metadata": {}
        },
        {
          "output_type": "stream",
          "name": "stdout",
          "text": [
            "+----------+--------------------+--------------------+--------------------+-------+-------+-------+-------+\n|Func_index|           HashOwner|             HashApp|        HashFunction|Average|Minimum|Maximum|Func_ID|\n+----------+--------------------+--------------------+--------------------+-------+-------+-------+-------+\n|    662922|9ba133aa96ee06d21...|ac032fd6a52508d2d...|cd296f64ab757c661...|   5927| 5927.0| 5927.0| 5144.0|\n|    662914|be54c9e3ff09f861f...|d8218a33de5b12acb...|48145a2f10ca4e085...|  48137|48137.0|48137.0| 6611.0|\n|    662911|0e6f4c0d10481d3e2...|96472968a363a279f...|8141d8d366d53cecc...|  65661|65661.0|65661.0| 3251.0|\n|    662907|c4ed082598a4332e5...|3d5835bab5a20f59b...|34b11f4fe1ffee918...|   2405| 2405.0| 2405.0| 1349.0|\n|    662898|7369f94603b35208b...|8ba068bdd814802c2...|48312d98155341be6...|     46|   38.0|   53.0| 1856.0|\n|    662896|d8a13b0cad5805789...|c84dbd26827cc16d9...|8fd372dd4bb570578...|     87|    0.0|  234.0| 3592.0|\n|    662895|653935f489b6ad9cb...|ca792bdccb67a727b...|513afc4b57dd9dd15...|     84|   18.0|  168.0| 2069.0|\n|    662890|653935f489b6ad9cb...|ca792bdccb67a727b...|a35aca759b71162b8...|   2006| 2006.0| 2006.0| 4110.0|\n|    662887|7432c37efe5a90415...|8352ecc3b078cb1cc...|1665421534436acfd...|   4575| 4575.0| 4575.0|  562.0|\n|    662886|b0eff6ce3f584d3ac...|233d721820d7dfa5e...|56bab12778cc631d5...|   2829|   72.0| 5604.0| 6640.0|\n+----------+--------------------+--------------------+--------------------+-------+-------+-------+-------+\nonly showing top 10 rows\n\n+----------+--------------------+--------------------+--------------------+-------+-------+--------+-------+\n|Func_index|           HashOwner|             HashApp|        HashFunction|Average|Minimum| Maximum|Func_ID|\n+----------+--------------------+--------------------+--------------------+-------+-------+--------+-------+\n|        10|66c4ef9b2392afe3f...|38c521102ac1cd559...|5679ddc73f9b68092...|   1333|   56.0| 22193.0| 2218.0|\n|        12|3bb952c79ba8d52c5...|71ba2a20e87ac9984...|21c8abde340712a21...|    202|  147.0|  3424.0|  848.0|\n|        25|da0cd5783c23e813e...|cfc1e42003c376238...|45f6a5645e65b9764...|      4|    0.0|   138.0| 1787.0|\n|        31|1c5909c9017da0cf0...|d7ea966b22051b63e...|a107843d9cff89380...|     50|    0.0|  3880.0| 4042.0|\n|        32|dca6b75d51b494146...|cfccc67d83c3c4dc1...|875652920ad86e74f...|   1625|  277.0|210005.0| 3389.0|\n|        33|1c5909c9017da0cf0...|d7ea966b22051b63e...|92c2b5aa2fd73c298...|     44|    0.0|   781.0| 3670.0|\n|        40|3e4df4be44e100424...|9e3df95350f330051...|13c55dd3d7ffc4a37...|   4997|   45.0|101046.0|  488.0|\n|        41|3e4df4be44e100424...|9e3df95350f330051...|895b0938aff10e2c7...|    120|   31.0| 42282.0| 3438.0|\n|        55|ccb4ed37224126b93...|a4356f12d427b9001...|b2d7ac575da1289b9...|    137|   28.0|  1303.0| 4509.0|\n|        56|ccb4ed37224126b93...|a4356f12d427b9001...|d86fc0242b8dc386b...|    214|   19.0|  1186.0| 5442.0|\n+----------+--------------------+--------------------+--------------------+-------+-------+--------+-------+\nonly showing top 10 rows\n\n"
          ]
        },
        {
          "output_type": "execute_result",
          "data": {
            "text/plain": "136997"
          },
          "execution_count": 15,
          "metadata": {}
        }
      ],
      "metadata": {
        "jupyter": {
          "source_hidden": false,
          "outputs_hidden": false
        },
        "nteract": {
          "transient": {
            "deleting": false
          }
        },
        "collapsed": false
      },
      "source": [
        "## Visual checks\r\n",
        "df_new.orderBy(\"Func_index\", ascending=False).show(10)\r\n",
        "df_new.orderBy(\"Func_index\", ascending=True).show(10)\r\n",
        "df_new.count()"
      ]
    },
    {
      "cell_type": "code",
      "execution_count": 7,
      "outputs": [
        {
          "output_type": "display_data",
          "data": {
            "application/vnd.livy.statement-meta+json": {
              "spark_pool": "genterist",
              "session_id": "2",
              "statement_id": 7,
              "state": "finished",
              "livy_statement_state": "available",
              "queued_time": "2023-02-26T05:23:33.7085496Z",
              "session_start_time": null,
              "execution_start_time": "2023-02-26T05:23:33.8897504Z",
              "execution_finish_time": "2023-02-26T05:23:48.6956655Z",
              "spark_jobs": null,
              "parent_msg_id": "019288d8-56a9-4eec-ab03-489edd1cf93c"
            },
            "text/plain": "StatementMeta(genterist, 2, 7, Finished, Available)"
          },
          "metadata": {}
        },
        {
          "output_type": "display_data",
          "data": {
            "application/vnd.synapse.widget-view+json": {
              "widget_id": "86384087-67d9-40ba-9b52-86835c9e8575",
              "widget_type": "Synapse.DataFrame"
            },
            "text/plain": "SynapseWidget(Synapse.DataFrame, 86384087-67d9-40ba-9b52-86835c9e8575)"
          },
          "metadata": {}
        },
        {
          "output_type": "execute_result",
          "data": {
            "text/plain": "[Row(Func_index=662886, HashOwner='b0eff6ce3f584d3aceca3e7ee56916785aa7c200aa00a859f8e5582460824b71', Func_ID=6640.0, Average='2829', Minimum='72.0', Maximum='5604.0'),\n Row(Func_index=662887, HashOwner='7432c37efe5a90415c2f0e67b3559899d15ec02766bb42d6e87e578baa49cc01', Func_ID=562.0, Average='4575', Minimum='4575.0', Maximum='4575.0'),\n Row(Func_index=662890, HashOwner='653935f489b6ad9cbfc2769a9838723a83f9a8505d6e323ffeb57eaa3fffd60b', Func_ID=4110.0, Average='2006', Minimum='2006.0', Maximum='2006.0'),\n Row(Func_index=662895, HashOwner='653935f489b6ad9cbfc2769a9838723a83f9a8505d6e323ffeb57eaa3fffd60b', Func_ID=2069.0, Average='84', Minimum='18.0', Maximum='168.0'),\n Row(Func_index=662896, HashOwner='d8a13b0cad5805789f66d4a2f0ec391b7e5d9bc72637c5ecba542d9ff31e7c7a', Func_ID=3592.0, Average='87', Minimum='0.0', Maximum='234.0'),\n Row(Func_index=662898, HashOwner='7369f94603b35208beb5add52dc9fcaa2198569e0a263072785fccd0fae537fe', Func_ID=1856.0, Average='46', Minimum='38.0', Maximum='53.0'),\n Row(Func_index=662907, HashOwner='c4ed082598a4332e5e10f705db8bcfd4a49bd2c66dc9bed38d36b74f76ce2e57', Func_ID=1349.0, Average='2405', Minimum='2405.0', Maximum='2405.0'),\n Row(Func_index=662911, HashOwner='0e6f4c0d10481d3e2d867bf91a7a4fbef39cc59e51a151fd39c942dab2de7f36', Func_ID=3251.0, Average='65661', Minimum='65661.0', Maximum='65661.0'),\n Row(Func_index=662914, HashOwner='be54c9e3ff09f861f194599a9b08428ffd8f9483daf0648d658c33ba1cd4b53c', Func_ID=6611.0, Average='48137', Minimum='48137.0', Maximum='48137.0'),\n Row(Func_index=662922, HashOwner='9ba133aa96ee06d21324270d65d9fa7f04756afe3e47fb1b88303fd9490f4716', Func_ID=5144.0, Average='5927', Minimum='5927.0', Maximum='5927.0')]"
          },
          "execution_count": 17,
          "metadata": {}
        }
      ],
      "metadata": {
        "jupyter": {
          "source_hidden": false,
          "outputs_hidden": false
        },
        "nteract": {
          "transient": {
            "deleting": false
          }
        },
        "collapsed": false
      },
      "source": [
        "df_new = df_new.select(\"Func_index\",\"HashOwner\",\"Func_ID\",\"Average\",\"Minimum\",\"Maximum\")\r\n",
        "df_new = df_new.orderBy(\"Func_index\", ascending=True)\r\n",
        "## Split df to train and test set\r\n",
        "test_size = 500 # equal or greater than forcast horizon\r\n",
        "train_size = df_new.count() - test_size\r\n",
        "df_train = df_new.limit(train_size)\r\n",
        "df_new = df_new.orderBy(\"Func_index\", ascending=False) #flip the table\r\n",
        "df_test = df_new.limit(test_size)\r\n",
        "df_test = df_test.orderBy(\"Func_index\", ascending=True) #flip df_test back, don't forget to flip df back if you want to use it later on\r\n",
        "display(df_train.limit(10))\r\n",
        "df_test.tail(10)"
      ]
    },
    {
      "cell_type": "code",
      "execution_count": 8,
      "outputs": [
        {
          "output_type": "display_data",
          "data": {
            "application/vnd.livy.statement-meta+json": {
              "spark_pool": "genterist",
              "session_id": "2",
              "statement_id": 8,
              "state": "finished",
              "livy_statement_state": "available",
              "queued_time": "2023-02-26T05:24:04.1710067Z",
              "session_start_time": null,
              "execution_start_time": "2023-02-26T05:24:04.3009508Z",
              "execution_finish_time": "2023-02-26T05:24:13.1687042Z",
              "spark_jobs": null,
              "parent_msg_id": "da5231de-4ab0-448d-ac37-e7f2852a201f"
            },
            "text/plain": "StatementMeta(genterist, 2, 8, Finished, Available)"
          },
          "metadata": {}
        },
        {
          "output_type": "stream",
          "name": "stdout",
          "text": [
            "Size of train set: 136497\nSize of test set: 500\n"
          ]
        }
      ],
      "metadata": {
        "jupyter": {
          "source_hidden": false,
          "outputs_hidden": false
        },
        "nteract": {
          "transient": {
            "deleting": false
          }
        }
      },
      "source": [
        "## compare train and test set print out with the df asc and desc printouts above\r\n",
        "## just double check the size again\r\n",
        "print(\"Size of train set:\",df_train.count())\r\n",
        "print(\"Size of test set:\",df_test.count())"
      ]
    },
    {
      "cell_type": "markdown",
      "metadata": {
        "nteract": {
          "transient": {
            "deleting": false
          }
        }
      },
      "source": [
        "# Export"
      ]
    },
    {
      "cell_type": "code",
      "execution_count": 9,
      "outputs": [
        {
          "output_type": "display_data",
          "data": {
            "application/vnd.livy.statement-meta+json": {
              "spark_pool": "genterist",
              "session_id": "2",
              "statement_id": 9,
              "state": "finished",
              "livy_statement_state": "available",
              "queued_time": "2023-02-26T05:24:32.6100519Z",
              "session_start_time": null,
              "execution_start_time": "2023-02-26T05:24:32.7598837Z",
              "execution_finish_time": "2023-02-26T05:24:45.5400669Z",
              "spark_jobs": null,
              "parent_msg_id": "80af8659-67ad-4efb-ad74-0a5896cf1ee5"
            },
            "text/plain": "StatementMeta(genterist, 2, 9, Finished, Available)"
          },
          "metadata": {}
        },
        {
          "output_type": "stream",
          "name": "stdout",
          "text": [
            "Success!!\n"
          ]
        }
      ],
      "metadata": {
        "jupyter": {
          "source_hidden": false,
          "outputs_hidden": false
        },
        "nteract": {
          "transient": {
            "deleting": false
          }
        }
      },
      "source": [
        "## Export Train Set\r\n",
        "df_train.coalesce(1).write.option(\"header\",\"TRUE\").csv(\"abfss://genfilesys@gensynapse.dfs.core.windows.net/httpTrigger_prediction/TCN_AzurePayload_TRAIN__v20230225\")\r\n",
        "## Export Test Set\r\n",
        "df_test.coalesce(1).write.option(\"header\",\"TRUE\").csv(\"abfss://genfilesys@gensynapse.dfs.core.windows.net/httpTrigger_prediction/TCN_AzurePayload_TEST__v20230225\")\r\n",
        "print(\"Success!!\")"
      ]
    }
  ]
}